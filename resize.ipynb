{
 "cells": [
  {
   "source": [
    "#### Notebook copied and modified from \n",
    "#### https://github.com/scrapfishies/ai-generated-tarot/blob/main/notebooks/image_formatting.ipynb\n",
    "#### Dec-02-2020"
   ],
   "cell_type": "markdown",
   "metadata": {}
  },
  {
   "cell_type": "markdown",
   "metadata": {},
   "source": [
    "# Image Formatting\n",
    "\n",
    "Images need to be square for training with StyleGAN2-ADA, and not only are these rectangles, but they also vary by size. So I'll need to first make them all a standard size, and then I'll add padding to fill in the width with a background to get a square. \n",
    "\n",
    "**Sources & References**\n",
    "- [note.nkmk.me](https://note.nkmk.me/en/python-pillow-add-margin-expand-canvas/)\n",
    "- [sempioneer](https://sempioneer.com/python-for-seo/image-resizing-in-python/#How_To_Resize_A_Single_Image_With_Python)"
   ]
  },
  {
   "cell_type": "code",
   "execution_count": 24,
   "metadata": {
    "ExecuteTime": {
     "end_time": "2020-11-19T23:45:20.022823Z",
     "start_time": "2020-11-19T23:45:19.993402Z"
    }
   },
   "outputs": [],
   "source": [
    "import PIL\n",
    "import os\n",
    "import os.path\n",
    "from PIL import Image"
   ]
  },
  {
   "cell_type": "code",
   "execution_count": 25,
   "metadata": {
    "ExecuteTime": {
     "end_time": "2020-11-19T23:45:22.026254Z",
     "start_time": "2020-11-19T23:45:22.017357Z"
    }
   },
   "outputs": [
    {
     "output_type": "execute_result",
     "data": {
      "text/plain": [
       "'/Users/jaeseokpark/GitHub/deepflag_project'"
      ]
     },
     "metadata": {},
     "execution_count": 25
    }
   ],
   "source": [
    "base_path = os.getcwd()\n",
    "base_path"
   ]
  },
  {
   "cell_type": "code",
   "execution_count": 26,
   "metadata": {
    "ExecuteTime": {
     "end_time": "2020-11-19T23:45:23.105822Z",
     "start_time": "2020-11-19T23:45:23.102823Z"
    }
   },
   "outputs": [
    {
     "output_type": "execute_result",
     "data": {
      "text/plain": [
       "'/Users/jaeseokpark/GitHub/deepflag_project/data_files/original_flags'"
      ]
     },
     "metadata": {},
     "execution_count": 26
    }
   ],
   "source": [
    "input_folder = base_path + '/data_files/original_flags'\n",
    "input_folder"
   ]
  },
  {
   "cell_type": "code",
   "execution_count": 27,
   "metadata": {
    "ExecuteTime": {
     "end_time": "2020-11-19T23:45:24.302841Z",
     "start_time": "2020-11-19T23:45:24.297161Z"
    }
   },
   "outputs": [
    {
     "output_type": "stream",
     "name": "stdout",
     "text": [
      "Number of images:  1344\n"
     ]
    }
   ],
   "source": [
    "print(\"Number of images: \", len(os.listdir(input_folder)))"
   ]
  },
  {
   "cell_type": "code",
   "execution_count": 28,
   "metadata": {
    "ExecuteTime": {
     "end_time": "2020-11-19T23:45:26.297039Z",
     "start_time": "2020-11-19T23:45:26.293991Z"
    }
   },
   "outputs": [
    {
     "output_type": "execute_result",
     "data": {
      "text/plain": [
       "'/Users/jaeseokpark/GitHub/deepflag_project/data_files/flag_512'"
      ]
     },
     "metadata": {},
     "execution_count": 28
    }
   ],
   "source": [
    "output_folder = base_path + '/data_files/flag_512'\n",
    "output_folder"
   ]
  },
  {
   "source": [
    "# os.mkdir(output_folder)"
   ],
   "cell_type": "code",
   "metadata": {
    "ExecuteTime": {
     "end_time": "2020-11-19T23:45:28.555439Z",
     "start_time": "2020-11-19T23:45:28.552684Z"
    }
   },
   "execution_count": null,
   "outputs": []
  },
  {
   "cell_type": "markdown",
   "metadata": {},
   "source": [
    "Resizing images by desired max height, which will be 256 pixels."
   ]
  },
  {
   "cell_type": "code",
   "execution_count": 106,
   "metadata": {},
   "outputs": [
    {
     "output_type": "stream",
     "name": "stdout",
     "text": [
      "Number of photos converted to jpg: 1345\n"
     ]
    }
   ],
   "source": [
    "# First, change all images to jpg\n",
    "count = 1\n",
    "\n",
    "for file in os.listdir(input_folder):\n",
    "    if file != '.DS_Store' and file[-4:] != 'jpeg':\n",
    "        f_img = input_folder + \"/\" + file\n",
    "        img = Image.open(f_img)\n",
    "        img.convert('RGB').save(input_folder + '/' + file[:-3] + '.jpg') \n",
    "    count += 1\n",
    "\n",
    "print(f'Number of photos converted to jpg: {count}')"
   ]
  },
  {
   "cell_type": "code",
   "execution_count": 118,
   "metadata": {
    "ExecuteTime": {
     "end_time": "2020-11-19T23:45:48.885309Z",
     "start_time": "2020-11-19T23:45:48.880187Z"
    }
   },
   "outputs": [],
   "source": [
    "def resize_by_max_height(input_dir, output_dir, base_height):\n",
    "    print('Fetching files...')\n",
    "    print(\"==================\")\n",
    "    \n",
    "    count = 1\n",
    "    for file in os.listdir(input_dir):\n",
    "        if file[-3:] == 'peg' or file[-3:] == 'jpg':\n",
    "            f_img = input_dir + \"/\" + file\n",
    "            img = Image.open(f_img)\n",
    "            hpercent = (base_height / float(img.size[1]))\n",
    "            wsize = int((float(img.size[0]) * float(hpercent)))\n",
    "            img = img.resize((wsize, base_height), PIL.Image.ANTIALIAS)\n",
    "            img.save(output_folder + \"/\" + str(count) +'.jpg')\n",
    "            # print(f'File {file} resized!')\n",
    "            count += 1\n",
    "    print(\"==================\")    \n",
    "    print(\"Resizing complete!\")\n",
    "    print(f'Number of photos resized: {count}')"
   ]
  },
  {
   "source": [
    "max_height = 256\n",
    "resize_by_max_height(input_folder, output_folder, max_height)"
   ],
   "cell_type": "code",
   "metadata": {
    "ExecuteTime": {
     "end_time": "2020-11-19T23:45:58.688064Z",
     "start_time": "2020-11-19T23:45:50.332792Z"
    },
    "tags": []
   },
   "execution_count": 119,
   "outputs": [
    {
     "output_type": "stream",
     "name": "stdout",
     "text": [
      "Fetching files...\n",
      "==================\n",
      "==================\n",
      "Resizing complete!\n",
      "Number of photos resized: 1344\n"
     ]
    }
   ]
  },
  {
   "cell_type": "markdown",
   "metadata": {},
   "source": [
    "Now to add black padding to the resized photos to keep it a perfectly square dimension."
   ]
  },
  {
   "cell_type": "code",
   "execution_count": 120,
   "metadata": {
    "ExecuteTime": {
     "end_time": "2020-11-19T23:46:49.273314Z",
     "start_time": "2020-11-19T23:46:49.269726Z"
    }
   },
   "outputs": [],
   "source": [
    "def expand2square(pil_img, background_color):\n",
    "    width, height = pil_img.size\n",
    "\n",
    "    result = Image.new('RGB', (512, 512), background_color)\n",
    "    result.paste(pil_img, ((512 - width) // 2, (512 - height) // 2))\n",
    "    return result"
   ]
  },
  {
   "cell_type": "code",
   "execution_count": 121,
   "metadata": {
    "ExecuteTime": {
     "end_time": "2020-11-19T23:47:41.503713Z",
     "start_time": "2020-11-19T23:47:41.499839Z"
    }
   },
   "outputs": [],
   "source": [
    "def resize_all_imgs(directory, background_color):\n",
    "    print('Fetching files...')\n",
    "    print(\"==================\")\n",
    "    \n",
    "    count = 1\n",
    "    \n",
    "    for file in os.listdir(directory):\n",
    "        if file[-3:] == 'peg' or file[-3:] == 'jpg':\n",
    "            f_img = directory + \"/\" + file\n",
    "            img = Image.open(f_img)\n",
    "            \n",
    "            sq_img = expand2square(img, background_color)\n",
    "            sq_img.save(directory + \"/\" + file)\n",
    "            # print(f'File {file} resized!')\n",
    "            count += 1\n",
    "    \n",
    "    print(\"==================\")    \n",
    "    print(\"Resizing complete!\")\n",
    "    print(f'Number of photos resized: {count}')"
   ]
  },
  {
   "cell_type": "code",
   "execution_count": 122,
   "metadata": {
    "ExecuteTime": {
     "end_time": "2020-11-19T23:47:47.544741Z",
     "start_time": "2020-11-19T23:47:43.254027Z"
    },
    "tags": []
   },
   "outputs": [
    {
     "output_type": "stream",
     "name": "stdout",
     "text": [
      "Fetching files...\n",
      "==================\n",
      "==================\n",
      "Resizing complete!\n",
      "Number of photos resized: 1344\n"
     ]
    }
   ],
   "source": [
    "background_color = (255, 255, 255)\n",
    "directory = output_folder\n",
    "\n",
    "resize_all_imgs(directory, background_color)"
   ]
  },
  {
   "cell_type": "markdown",
   "metadata": {},
   "source": [
    "Images are ready for training!"
   ]
  }
 ],
 "metadata": {
  "kernelspec": {
   "name": "python3",
   "display_name": "Python 3.8.5 64-bit ('base': conda)",
   "metadata": {
    "interpreter": {
     "hash": "a37621db6f99f75e4d2a47a248a6a71709dd01999a0a2eb01144ce85e79d4af1"
    }
   }
  },
  "language_info": {
   "codemirror_mode": {
    "name": "ipython",
    "version": 3
   },
   "file_extension": ".py",
   "mimetype": "text/x-python",
   "name": "python",
   "nbconvert_exporter": "python",
   "pygments_lexer": "ipython3",
   "version": "3.8.5-final"
  },
  "toc": {
   "base_numbering": 1,
   "nav_menu": {},
   "number_sections": true,
   "sideBar": true,
   "skip_h1_title": false,
   "title_cell": "Table of Contents",
   "title_sidebar": "Contents",
   "toc_cell": false,
   "toc_position": {},
   "toc_section_display": true,
   "toc_window_display": false
  },
  "varInspector": {
   "cols": {
    "lenName": 16,
    "lenType": 16,
    "lenVar": 40
   },
   "kernels_config": {
    "python": {
     "delete_cmd_postfix": "",
     "delete_cmd_prefix": "del ",
     "library": "var_list.py",
     "varRefreshCmd": "print(var_dic_list())"
    },
    "r": {
     "delete_cmd_postfix": ") ",
     "delete_cmd_prefix": "rm(",
     "library": "var_list.r",
     "varRefreshCmd": "cat(var_dic_list()) "
    }
   },
   "types_to_exclude": [
    "module",
    "function",
    "builtin_function_or_method",
    "instance",
    "_Feature"
   ],
   "window_display": false
  }
 },
 "nbformat": 4,
 "nbformat_minor": 4
}